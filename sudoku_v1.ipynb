{
 "cells": [
  {
   "cell_type": "code",
   "execution_count": 13,
   "metadata": {},
   "outputs": [
    {
     "name": "stdout",
     "output_type": "stream",
     "text": [
      "3.6.10 |Anaconda, Inc.| (default, May  8 2020, 02:54:21) \n",
      "[GCC 7.3.0]\n"
     ]
    }
   ],
   "source": [
    "import sys\n",
    "import os\n",
    "print(sys.version)"
   ]
  },
  {
   "cell_type": "code",
   "execution_count": 14,
   "metadata": {},
   "outputs": [
    {
     "name": "stdout",
     "output_type": "stream",
     "text": [
      "OpenCV version: 4.2.0\n"
     ]
    }
   ],
   "source": [
    "import random\n",
    "import sys\n",
    "import datetime\n",
    "import cv2\n",
    "import numpy as np\n",
    "import operator\n",
    "import imutils\n",
    "#import matplotlib.pyplot as plt\n",
    "\n",
    "#debug info OpenCV version\n",
    "print (\"OpenCV version: \" + cv2.__version__)"
   ]
  },
  {
   "cell_type": "code",
   "execution_count": 15,
   "metadata": {},
   "outputs": [],
   "source": [
    "def display_image(img, title):\n",
    "    cv2.imshow(title,img) \n",
    "    # here it should be the pause ,0 means indefinitely\n",
    "    k = cv2.waitKey(0)\n",
    "    if k == 27:         # wait for ESC key to exit\n",
    "        cv2.destroyAllWindows()"
   ]
  },
  {
   "cell_type": "code",
   "execution_count": 16,
   "metadata": {},
   "outputs": [
    {
     "name": "stdout",
     "output_type": "stream",
     "text": [
      "Original Dimensions :  (3264, 2448, 3)\n",
      "Resized Dimensions :  (326, 244, 3)\n"
     ]
    }
   ],
   "source": [
    "#image path and valid extensions\n",
    "imagePath = \"dataset/test.jpg\" #specify your path here\n",
    "img = cv2.imread(imagePath)\n",
    "\n",
    "print('Original Dimensions : ',img.shape)\n",
    "# percent of original size\n",
    "scale_percent = 10\n",
    "width = int(img.shape[1] * scale_percent / 100)\n",
    "height = int(img.shape[0] * scale_percent / 100)\n",
    "dim = (width, height)\n",
    "# resize image\n",
    "img = cv2.resize(img, dim, interpolation = cv2.INTER_AREA)\n",
    "print('Resized Dimensions : ',img.shape)\n",
    "\n",
    "#Grayscale\n",
    "img = cv2.cvtColor(img, cv2.COLOR_BGR2GRAY)\n",
    "\n",
    "display_image(img,\"GrayResized\")"
   ]
  },
  {
   "cell_type": "code",
   "execution_count": 17,
   "metadata": {},
   "outputs": [],
   "source": [
    "#Processing the image\n",
    "img = cv2.GaussianBlur(img, (9 ,9), 0)\n",
    "display_image(img,\"GausianBlur\")"
   ]
  },
  {
   "cell_type": "code",
   "execution_count": 18,
   "metadata": {},
   "outputs": [],
   "source": [
    "# Adaptive threshold using 11 nearest neighbour pixels\n",
    "# If the pixel value is smaller than the threshold, it is set to 0, otherwise it is set to a maximum value.\n",
    "img = cv2.adaptiveThreshold(img, 255, cv2.ADAPTIVE_THRESH_GAUSSIAN_C, cv2.THRESH_BINARY, 11, 2)\n",
    "display_image(img,\"AdaptiveThreshold\")"
   ]
  },
  {
   "cell_type": "code",
   "execution_count": 19,
   "metadata": {},
   "outputs": [],
   "source": [
    "# Invert colours, so gridlines have non-zero pixel values.\n",
    "img = cv2.bitwise_not(img);\n",
    "display_image(img,\"BitwiseNot\")"
   ]
  },
  {
   "cell_type": "code",
   "execution_count": 20,
   "metadata": {},
   "outputs": [],
   "source": [
    "#increases the white region in the image or size of foreground object increases.This makes gridlines prominent\n",
    "kernel = np.array([[0., 1., 0.], [1., 1., 1.], [0., 1., 0.]], np.uint8)\n",
    "img = cv2.dilate(img, kernel)\n",
    "display_image(img,\"Dilated\")"
   ]
  },
  {
   "cell_type": "code",
   "execution_count": 21,
   "metadata": {},
   "outputs": [],
   "source": [
    "def getCornerPoints(img):\n",
    "    # locate the corners of the sudoku board\n",
    "    # Find contours\n",
    "    # Contours is a Python list of all the contours in the image. \n",
    "    #Each individual contour is a Numpy array of (x,y) coordinates of boundary points of the object.\n",
    "    contours=cv2.findContours(img.copy(), cv2.RETR_EXTERNAL, cv2.CHAIN_APPROX_SIMPLE) \n",
    "    # Sort by area, descending\n",
    "    cnts = imutils.grab_contours(contours)\n",
    "    c = max(cnts, key=cv2.contourArea)\n",
    "\n",
    "    extLeft = tuple(c[c[:, :, 0].argmin()][0])\n",
    "    extRight = tuple(c[c[:, :, 0].argmax()][0])\n",
    "    extTop = tuple(c[c[:, :, 1].argmin()][0])\n",
    "    extBot = tuple(c[c[:, :, 1].argmax()][0])\n",
    "\n",
    "    cv2.drawContours(img, [c], -1, (255, 0, 0), 5)\n",
    "\n",
    "    img = cv2.circle(img, extLeft, 8, (255, 255, 255), -1)\n",
    "    img = cv2.circle(img, extRight, 8, (255, 255, 255), -1)\n",
    "    img = cv2.circle(img, extTop, 8, (255, 255, 255), -1)\n",
    "    img = cv2.circle(img, extBot, 8, (255, 255,255), -1)\n",
    "\n",
    "    display_image(img,\"Contours\")\n",
    "\n",
    "\n",
    "    return [extLeft,extRight,extTop,extBot]"
   ]
  },
  {
   "cell_type": "code",
   "execution_count": 22,
   "metadata": {},
   "outputs": [
    {
     "name": "stdout",
     "output_type": "stream",
     "text": [
      "[(8, 91), (243, 224), (237, 85), (13, 292)]\n"
     ]
    }
   ],
   "source": [
    "print(getCornerPoints(img))\n",
    "def distance_between(p1, p2):\n",
    "    \"\"\"Returns the scalar distance between two points\"\"\"\n",
    "    a = p2[0] - p1[0]\n",
    "    b = p2[1] - p1[1]\n",
    "    return np.sqrt((a ** 2) + (b ** 2))"
   ]
  },
  {
   "cell_type": "code",
   "execution_count": null,
   "metadata": {},
   "outputs": [],
   "source": []
  }
 ],
 "metadata": {
  "kernelspec": {
   "display_name": "Python 3",
   "language": "python",
   "name": "python3"
  },
  "language_info": {
   "codemirror_mode": {
    "name": "ipython",
    "version": 3
   },
   "file_extension": ".py",
   "mimetype": "text/x-python",
   "name": "python",
   "nbconvert_exporter": "python",
   "pygments_lexer": "ipython3",
   "version": "3.6.10"
  }
 },
 "nbformat": 4,
 "nbformat_minor": 4
}
