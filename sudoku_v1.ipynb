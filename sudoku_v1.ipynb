{
 "cells": [
  {
   "cell_type": "code",
   "execution_count": 75,
   "metadata": {},
   "outputs": [
    {
     "name": "stdout",
     "output_type": "stream",
     "text": [
      "3.6.10 |Anaconda, Inc.| (default, May  8 2020, 02:54:21) \n",
      "[GCC 7.3.0]\n"
     ]
    }
   ],
   "source": [
    "import sys\n",
    "import os\n",
    "print(sys.version)"
   ]
  },
  {
   "cell_type": "code",
   "execution_count": 76,
   "metadata": {},
   "outputs": [
    {
     "name": "stdout",
     "output_type": "stream",
     "text": [
      "OpenCV version: 4.2.0\n"
     ]
    }
   ],
   "source": [
    "import random\n",
    "import sys\n",
    "import datetime\n",
    "import cv2\n",
    "import numpy as np\n",
    "import operator\n",
    "import imutils\n",
    "import matplotlib.pyplot as plt\n",
    "\n",
    "#debug info OpenCV version\n",
    "print (\"OpenCV version: \" + cv2.__version__)"
   ]
  },
  {
   "cell_type": "code",
   "execution_count": 77,
   "metadata": {},
   "outputs": [],
   "source": [
    "#define constants\n",
    "imagePath = \"dataset/test.jpg\" #specify your path here\n",
    "scale_percent = 20  # percentage by which image size will be reduced\n"
   ]
  },
  {
   "cell_type": "code",
   "execution_count": 79,
   "metadata": {},
   "outputs": [],
   "source": [
    "def display_image(img, title):\n",
    "    cv2.imshow(title,img) \n",
    "    # here it should be the pause ,0 means indefinitely\n",
    "    k = cv2.waitKey(0)\n",
    "    if k == 27:         # wait for ESC key to exit\n",
    "        cv2.destroyAllWindows()"
   ]
  },
  {
   "cell_type": "code",
   "execution_count": 80,
   "metadata": {},
   "outputs": [
    {
     "name": "stdout",
     "output_type": "stream",
     "text": [
      "Original Dimensions :  (3264, 2448, 3)\n",
      "Resized Dimensions :  (652, 489, 3)\n"
     ]
    }
   ],
   "source": [
    "img = cv2.imread(imagePath)\n",
    "\n",
    "print('Original Dimensions : ',img.shape)\n",
    "\n",
    "width = int(img.shape[1] * scale_percent / 100)\n",
    "height = int(img.shape[0] * scale_percent / 100)\n",
    "dim = (width, height)\n",
    "# resize image\n",
    "img = cv2.resize(img, dim, interpolation = cv2.INTER_AREA)\n",
    "print('Resized Dimensions : ',img.shape)\n",
    "\n",
    "#Grayscale\n",
    "img = cv2.cvtColor(img, cv2.COLOR_BGR2GRAY)\n",
    "\n",
    "display_image(img,\"GrayResized\")"
   ]
  },
  {
   "cell_type": "code",
   "execution_count": 81,
   "metadata": {},
   "outputs": [],
   "source": [
    "#Processing the image\n",
    "img = cv2.GaussianBlur(img, (9 ,9), 0)\n",
    "display_image(img,\"GausianBlur\")"
   ]
  },
  {
   "cell_type": "code",
   "execution_count": 82,
   "metadata": {},
   "outputs": [],
   "source": [
    "# Adaptive threshold using 11 nearest neighbour pixels\n",
    "# If the pixel value is smaller than the threshold, it is set to 0, otherwise it is set to a maximum value.\n",
    "img = cv2.adaptiveThreshold(img, 255, cv2.ADAPTIVE_THRESH_GAUSSIAN_C, cv2.THRESH_BINARY, 11, 2)\n",
    "display_image(img,\"AdaptiveThreshold\")"
   ]
  },
  {
   "cell_type": "code",
   "execution_count": 83,
   "metadata": {},
   "outputs": [],
   "source": [
    "# Invert colours, so gridlines have non-zero pixel values.\n",
    "img = cv2.bitwise_not(img);\n",
    "display_image(img,\"BitwiseNot\")"
   ]
  },
  {
   "cell_type": "code",
   "execution_count": 84,
   "metadata": {},
   "outputs": [],
   "source": [
    "#increases the white region in the image or size of foreground object increases.This makes gridlines prominent\n",
    "kernel = np.array([[0., 1., 0.], [1., 1., 1.], [0., 1., 0.]], np.uint8)\n",
    "img = cv2.dilate(img, kernel)\n",
    "display_image(img,\"Dilated\")"
   ]
  },
  {
   "cell_type": "code",
   "execution_count": 85,
   "metadata": {},
   "outputs": [],
   "source": [
    "def get_corners_of_largest_polygon(img):\n",
    "    \"\"\"Finds the 4 extreme corners of the largest contour in the image.\"\"\"\n",
    "\n",
    "    contours, h = cv2.findContours(img.copy(), cv2.RETR_EXTERNAL, cv2.CHAIN_APPROX_SIMPLE)  \n",
    "    contours = sorted(contours, key=cv2.contourArea, reverse=True)\n",
    "    # Largest image\n",
    "    polygon = contours[0]  \n",
    " \n",
    "    # Bottom-right point has the largest (x + y) value\n",
    "    # Top-left has point smallest (x + y) value\n",
    "    # Bottom-left point has smallest (x - y) value\n",
    "    # Top-right point has largest (x - y) value\n",
    "    bottom_right, _ = max(enumerate([pt[0][0] + pt[0][1] for pt in polygon]), key=operator.itemgetter(1))\n",
    "    top_left, _ = min(enumerate([pt[0][0] + pt[0][1] for pt in polygon]), key=operator.itemgetter(1))\n",
    "    bottom_left, _ = min(enumerate([pt[0][0] - pt[0][1] for pt in polygon]), key=operator.itemgetter(1))\n",
    "    top_right, _ = max(enumerate([pt[0][0] - pt[0][1] for pt in polygon]), key=operator.itemgetter(1))\n",
    "\n",
    "    # return np array of size 4 representing the four corners' x and y coordinates\n",
    "    arr = np.array([polygon[top_left][0], polygon[top_right][0], polygon[bottom_right][0], polygon[bottom_left][0]], dtype='float32')\n",
    "    return arr"
   ]
  },
  {
   "cell_type": "code",
   "execution_count": 86,
   "metadata": {
    "scrolled": true
   },
   "outputs": [],
   "source": [
    "rect_corners = get_corners_of_largest_polygon(img)"
   ]
  },
  {
   "cell_type": "code",
   "execution_count": 87,
   "metadata": {},
   "outputs": [],
   "source": [
    "def distance_between(p1, p2):\n",
    "    \"\"\"Returns the scalar distance between two points\"\"\"\n",
    "    a = p2[0] - p1[0]\n",
    "    b = p2[1] - p1[1]\n",
    "    return np.sqrt((a ** 2) + (b ** 2))"
   ]
  },
  {
   "cell_type": "code",
   "execution_count": 88,
   "metadata": {},
   "outputs": [],
   "source": [
    "def get_bird_view_image(img, src_point):\n",
    "    \"\"\"bird's eye view of the given board from the corresponding src_point.\"\"\"\n",
    "\n",
    "    # Get the longest side in the rectangle\n",
    "    side = max([\n",
    "        distance_between(src_point[2], src_point[1]),\n",
    "        distance_between(src_point[0], src_point[3]),\n",
    "        distance_between(src_point[2], src_point[3]),\n",
    "        distance_between(src_point[0], src_point[1])\n",
    "        ])\n",
    "    \n",
    "    print(side)\n",
    "\n",
    "    dst_points = np.array([[0, 0], [side - 1, 0], [side - 1, side - 1], [0, side - 1]], dtype='float32')\n",
    "\n",
    "    m = cv2.getPerspectiveTransform(src_point, dst_points)\n",
    "\n",
    "    # Performs the transformation on the original image\n",
    "    warp = cv2.warpPerspective(img, m, (int(side), int(side)))\n",
    "    plt.imshow(warp, cmap='gray')\n",
    "    plt.title('warp_image')\n",
    "    plt.show()\n",
    "    return warp"
   ]
  },
  {
   "cell_type": "code",
   "execution_count": 89,
   "metadata": {},
   "outputs": [
    {
     "name": "stdout",
     "output_type": "stream",
     "text": [
      "426.0422514258416\n"
     ]
    },
    {
     "data": {
      "image/png": "[encoded data removed]",
      "text/plain": [
       "<Figure size 432x288 with 1 Axes>"
      ]
     },
     "metadata": {
      "needs_background": "light"
     },
     "output_type": "display_data"
    }
   ],
   "source": [
    "cropped = get_bird_view_image(img,rect_corners)\n",
    "display_image(cropped,\"wrapped\")"
   ]
  },
  {
   "cell_type": "code",
   "execution_count": null,
   "metadata": {},
   "outputs": [],
   "source": []
  }
 ],
 "metadata": {
  "kernelspec": {
   "display_name": "Python 3",
   "language": "python",
   "name": "python3"
  },
  "language_info": {
   "codemirror_mode": {
    "name": "ipython",
    "version": 3
   },
   "file_extension": ".py",
   "mimetype": "text/x-python",
   "name": "python",
   "nbconvert_exporter": "python",
   "pygments_lexer": "ipython3",
   "version": "3.6.10"
  }
 },
 "nbformat": 4,
 "nbformat_minor": 4
}
